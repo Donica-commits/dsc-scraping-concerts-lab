{
 "cells": [
  {
   "cell_type": "markdown",
   "metadata": {},
   "source": [
    "# Scraping Concerts - Lab\n",
    "\n",
    "## Introduction\n",
    "\n",
    "Now that you've seen how to scrape a simple website, it's time to again practice those skills on a full-fledged site!\n",
    "\n",
    "In this lab, you'll practice your scraping skills on an online music magazine and events website called Resident Advisor.\n",
    "\n",
    "## Objectives\n",
    "\n",
    "You will be able to:\n",
    "* Create a full scraping pipeline that involves traversing over many pages of a website, dealing with errors and storing data"
   ]
  },
  {
   "cell_type": "markdown",
   "metadata": {},
   "source": [
    "## View the Website\n",
    "\n",
    "For this lab, you'll be scraping the https://ra.co website. For reproducibility we will use the [Internet Archive](https://archive.org/) Wayback Machine to retrieve a version of this page from March 2019.\n",
    "\n",
    "Start by navigating to the events page [here](https://web.archive.org/web/20210325230938/https://ra.co/events/us/newyork?week=2019-03-30) in your browser. It should look something like this:\n",
    "\n",
    "<img src=\"images/ra_top.png\">"
   ]
  },
  {
   "cell_type": "markdown",
   "metadata": {},
   "source": [
    "## Open the Inspect Element Feature\n",
    "\n",
    "Next, open the inspect element feature from your web browser in order to preview the underlying HTML associated with the page."
   ]
  },
  {
   "cell_type": "markdown",
   "metadata": {},
   "source": [
    "## Write a Function to Scrape all of the Events on the Given Page\n",
    "\n",
    "The function should return a Pandas DataFrame with columns for the `Event_Name`, `Venue`, and `Number_of_Attendees`.\n",
    "\n",
    "Start by importing the relevant libraries, making a request to the relevant URL, and exploring the contents of the response with `BeautifulSoup`. Then fill in the `scrape_events` function with the relevant code."
   ]
  },
  {
   "cell_type": "code",
   "execution_count": 1,
   "metadata": {},
   "outputs": [],
   "source": [
    "# Relevant imports\n",
    "import pandas as pd\n",
    "import json\n",
    "from bs4 import BeautifulSoup\n",
    "import numpy as np\n",
    "import time\n",
    "import requests"
   ]
  },
  {
   "cell_type": "code",
   "execution_count": 2,
   "metadata": {},
   "outputs": [],
   "source": [
    "EVENTS_PAGE_URL = \"https://web.archive.org/web/20210326225933/https://ra.co/events/us/newyork?week=2019-03-30\"\n",
    "\n",
    "# Exploration: making the request and parsing the response\n",
    "response = requests.get(EVENTS_PAGE_URL)\n",
    "soup = BeautifulSoup(response.content, \"html.parser\")"
   ]
  },
  {
   "cell_type": "code",
   "execution_count": 3,
   "metadata": {},
   "outputs": [],
   "source": [
    "# Find the container with event listings in it\n",
    "events_all_div = soup.find('div', attrs={'data-tracking-id': 'events-all'})"
   ]
  },
  {
   "cell_type": "code",
   "execution_count": 4,
   "metadata": {},
   "outputs": [
    {
     "name": "stdout",
     "output_type": "stream",
     "text": [
      "13\n",
      "̸Sat, 30 MarUnterMania IIMary Yuzovskaya, Manni Dee, Umfang, Juana, The Lady MachineTBA - New YorkRARA Tickets457Cocoon New York: Sven Väth, Ilario Alicante, Butch & TaimurSven Vath, Butch, Taimur, Ilario Alicante99 Scott AveRARA Tickets407Horse Meat Disco - New York ResidencyHorse Meat Disco, The Carry Nation, Amber ValentineElsewhereRARA Tickets375RA PickRave: Underground Resistance All NightNomadico, Mark FlashNowadaysRARA Tickets232Detroit techno's most iconic crew dispatches two of its DJs for a rare New York gig at one of the city's homiest clubs. Believe You Me // Beta Librae, Stephan Kimbel, Born 2 BoogieBeta Librae, Stephan KimbelTBA - New YorkRARA Tickets89M.A.N.D.Y. with DJ Lisa Frank Plus Mnmlktchn with DJ QuM.A.N.D.Y., DJ Qu, Michel Harruch, DJ Lisa FrankGood RoomRARA Tickets87Nails & Wax presents: RekaReka, pulsewidthmod, dolli B, Andres TavioH0L0RARA Tickets67Wings of Illusion - Burning Man 2019 Art Car FundraiserAmine K, Bo (Borzu), CarlitaBogart HouseRARA Tickets30TBA \n"
     ]
    }
   ],
   "source": [
    "# Find a list of events by date within that container\n",
    "event_listings = events_all_div.find('ul').find('li')\n",
    "\n",
    "print(len(event_listings))\n",
    "print(event_listings.text[:1000])"
   ]
  },
  {
   "cell_type": "code",
   "execution_count": 5,
   "metadata": {},
   "outputs": [
    {
     "name": "stdout",
     "output_type": "stream",
     "text": [
      "0 index: ̸Sat, 30 MarUnterMania IIMary Yuzovskaya, Manni Dee, Umfang, Juana, The Lady MachineTBA - New YorkRA\n",
      "1 index: \n",
      "2 index: ̸Sun, 31 MarSunday: Soul SummitNowadaysRARA Tickets132New Dad & Aaron Clark (Honcho)Aaron Clark, New\n"
     ]
    }
   ],
   "source": [
    "dates = event_listings.findChildren(recursive=False)\n",
    "\n",
    "print(\"0 index:\", dates[0].text[:100])\n",
    "print(\"1 index:\", dates[1].text[:100])\n",
    "print(\"2 index:\", dates[2].text[:100])"
   ]
  },
  {
   "cell_type": "code",
   "execution_count": 6,
   "metadata": {},
   "outputs": [
    {
     "name": "stdout",
     "output_type": "stream",
     "text": [
      "̸Sat, 30\n"
     ]
    }
   ],
   "source": [
    "# Extract the date (e.g. Sat, 30 Mar) from one of those containers\n",
    "first_date = dates[0]\n",
    "print(first_date.text[:8])"
   ]
  },
  {
   "cell_type": "code",
   "execution_count": 7,
   "metadata": {},
   "outputs": [
    {
     "name": "stdout",
     "output_type": "stream",
     "text": [
      "̸Sat, 30 Mar\n"
     ]
    }
   ],
   "source": [
    "date = first_date.find('div', class_='sticky-header').text\n",
    "print(date)"
   ]
  },
  {
   "cell_type": "code",
   "execution_count": 8,
   "metadata": {},
   "outputs": [
    {
     "name": "stdout",
     "output_type": "stream",
     "text": [
      "UnterMania II\n"
     ]
    }
   ],
   "source": [
    "# Extract the name, venue, and number of attendees from one of the\n",
    "# events within that container\n",
    "first_date_events = first_date.findChildren('ul')\n",
    "first_event = first_date_events[0]\n",
    "\n",
    "name = first_event.find('h3').text\n",
    "print(name)"
   ]
  },
  {
   "cell_type": "code",
   "execution_count": 9,
   "metadata": {},
   "outputs": [
    {
     "name": "stdout",
     "output_type": "stream",
     "text": [
      "[<div class=\"Box-omzyfs-0 sc-AxjAm fOOuYI\" height=\"30\"><div class=\"Box-omzyfs-0 sc-AxjAm hoMiiH\" color=\"accent\" height=\"24\" width=\"24\"><svg aria-label=\"Location\" height=\"100%\" viewbox=\"0 0 24 24\" width=\"100%\"><g fill=\"none\" fill-rule=\"evenodd\"><path d=\"M0 0h24v24H0z\" fill=\"none\"></path><path d=\"M13.613 15.075c.26-.501.505-.988.732-1.456C15.393 11.456 16 9.785 16 9a4 4 0 10-8 0c0 .785.607 2.456 1.655 4.619.227.468.472.955.732 1.456A83.615 83.615 0 0012 18.022c.55-.962 1.1-1.96 1.613-2.947zM18 9c0 1.2-.67 3.045-1.855 5.491-.236.486-.49.99-.758 1.506a86.17 86.17 0 01-2.532 4.522 1 1 0 01-1.71 0 85.564 85.564 0 01-.793-1.35 86.17 86.17 0 01-1.74-3.172 60.318 60.318 0 01-.757-1.506C6.67 12.045 6 10.201 6 9a6 6 0 016-6 6 6 0 016 6z\" fill=\"currentColor\"></path><path d=\"M13 9a1 1 0 11-2 0 1 1 0 112 0\" fill=\"currentColor\"></path></g></svg></div><span class=\"Text-sc-1t0gn2o-0 hhfigA\" color=\"primary\" font-weight=\"normal\">TBA - New York</span></div>, <div class=\"Box-omzyfs-0 sc-AxjAm jYikCb\" height=\"30\"><div class=\"Box-omzyfs-0 sc-AxjAm faxXyr\" color=\"secondary\" height=\"24\" width=\"24\"><svg aria-label=\"Ticket\" height=\"100%\" viewbox=\"0 0 24 24\" width=\"100%\"><g fill=\"none\" fill-rule=\"evenodd\"><path d=\"M0 0h24v24H0z\" fill=\"none\"></path><path d=\"M8.243 6.827a1 1 0 010-1.414l2.12-2.12a1 1 0 011.415 0l8.485 8.484a1 1 0 010 1.414l-2.12 2.121a1 1 0 01-1.415 0 1 1 0 00-1.415 1.414 1 1 0 010 1.414l-2.12 2.123a1 1 0 01-1.415 0l-8.485-8.486a1 1 0 010-1.414l2.122-2.121a1 1 0 011.414 0 1.001 1.001 0 001.414-1.415zm2-.586a3.002 3.002 0 01-4 4.002l-.829.828 7.07 7.07.829-.828a3.002 3.002 0 014.001-4.001l.828-.828-7.071-7.07-.828.827z\" fill=\"currentColor\"></path></g></svg></div><a class=\"Link__AnchorWrapper-k7o46r-1 cIDdag\" color=\"secondary\" href=\"/web/20210326225933/https://ra.co/events/1234892#tickets\"><span class=\"Text-sc-1t0gn2o-0 Link__StyledLink-k7o46r-0 iHZuSI\" color=\"secondary\" font-weight=\"normal\" href=\"/events/1234892#tickets\"><span class=\"Box-omzyfs-0 kMopVb\" display=\"[object Object]\">RA</span><span class=\"Box-omzyfs-0 fQMHMH\" display=\"[object Object]\">RA Tickets</span></span></a></div>, <div class=\"Box-omzyfs-0 sc-AxjAm jYikCb\" height=\"30\"><div class=\"Box-omzyfs-0 sc-AxjAm hoMiiH\" color=\"accent\" height=\"24\" width=\"24\"><svg aria-label=\"Person\" height=\"100%\" viewbox=\"0 0 24 24\" width=\"100%\"><g fill=\"none\" fill-rule=\"evenodd\"><path d=\"M0 0h24v24H0z\" fill=\"none\"></path><path d=\"M14 8a2 2 0 10-4 0 2 2 0 004 0zm2 0a4 4 0 11-8 0 4 4 0 018 0zM7 19a1 1 0 01-2 0 7 7 0 0114 0 1 1 0 01-2 0 5 5 0 00-10 0z\" fill=\"currentColor\"></path></g></svg></div><span class=\"Text-sc-1t0gn2o-0 hhfigA\" color=\"primary\" font-weight=\"normal\">457</span></div>]\n"
     ]
    }
   ],
   "source": [
    "venue_and_attendees = first_event.findAll('div', attrs={'height': 30})\n",
    "print(venue_and_attendees)"
   ]
  },
  {
   "cell_type": "code",
   "execution_count": 10,
   "metadata": {},
   "outputs": [
    {
     "name": "stdout",
     "output_type": "stream",
     "text": [
      "Name: UnterMania II\n",
      "Venue: TBA - New York\n",
      "Date: ̸Sat, 30 Mar\n",
      "Number of Attendees: 457\n"
     ]
    }
   ],
   "source": [
    "venue = venue_and_attendees[0].text\n",
    "number_attend = int(venue_and_attendees[-1].text)\n",
    "\n",
    "print(\"Name:\", name)\n",
    "print(\"Venue:\", venue)\n",
    "print(\"Date:\", date)\n",
    "print(\"Number of Attendees:\", number_attend)"
   ]
  },
  {
   "cell_type": "code",
   "execution_count": 11,
   "metadata": {},
   "outputs": [
    {
     "ename": "ValueError",
     "evalue": "invalid literal for int() with base 10: 'H0L0'",
     "output_type": "error",
     "traceback": [
      "\u001b[1;31m---------------------------------------------------------------------------\u001b[0m",
      "\u001b[1;31mValueError\u001b[0m                                Traceback (most recent call last)",
      "\u001b[1;32m<ipython-input-11-21935b400204>\u001b[0m in \u001b[0;36m<module>\u001b[1;34m\u001b[0m\n\u001b[0;32m      6\u001b[0m \u001b[0mvenue_and_attendees\u001b[0m \u001b[1;33m=\u001b[0m \u001b[0mlast_event\u001b[0m\u001b[1;33m.\u001b[0m\u001b[0mfindAll\u001b[0m\u001b[1;33m(\u001b[0m\u001b[1;34m'div'\u001b[0m\u001b[1;33m,\u001b[0m \u001b[0mattrs\u001b[0m\u001b[1;33m=\u001b[0m\u001b[1;33m{\u001b[0m\u001b[1;34m'height'\u001b[0m\u001b[1;33m:\u001b[0m \u001b[1;36m30\u001b[0m\u001b[1;33m}\u001b[0m\u001b[1;33m)\u001b[0m\u001b[1;33m\u001b[0m\u001b[1;33m\u001b[0m\u001b[0m\n\u001b[0;32m      7\u001b[0m \u001b[0mvenue\u001b[0m \u001b[1;33m=\u001b[0m \u001b[0mvenue_and_attendees\u001b[0m\u001b[1;33m[\u001b[0m\u001b[1;36m0\u001b[0m\u001b[1;33m]\u001b[0m\u001b[1;33m.\u001b[0m\u001b[0mtext\u001b[0m\u001b[1;33m\u001b[0m\u001b[1;33m\u001b[0m\u001b[0m\n\u001b[1;32m----> 8\u001b[1;33m \u001b[0mnumber_attend\u001b[0m \u001b[1;33m=\u001b[0m \u001b[0mint\u001b[0m\u001b[1;33m(\u001b[0m\u001b[0mvenue_and_attendees\u001b[0m\u001b[1;33m[\u001b[0m\u001b[1;33m-\u001b[0m\u001b[1;36m1\u001b[0m\u001b[1;33m]\u001b[0m\u001b[1;33m.\u001b[0m\u001b[0mtext\u001b[0m\u001b[1;33m)\u001b[0m\u001b[1;33m\u001b[0m\u001b[1;33m\u001b[0m\u001b[0m\n\u001b[0m",
      "\u001b[1;31mValueError\u001b[0m: invalid literal for int() with base 10: 'H0L0'"
     ]
    }
   ],
   "source": [
    "# Loop over all of the event entries, extract this information\n",
    "# from each, and assemble a dataframe\n",
    "last_event = first_date_events[-1]\n",
    "name = last_event.find('h3').text\n",
    "\n",
    "venue_and_attendees = last_event.findAll('div', attrs={'height': 30})\n",
    "venue = venue_and_attendees[0].text\n",
    "number_attend = int(venue_and_attendees[-1].text)"
   ]
  },
  {
   "cell_type": "code",
   "execution_count": 12,
   "metadata": {},
   "outputs": [
    {
     "name": "stdout",
     "output_type": "stream",
     "text": [
      "Name: Petra, Matthusen & Lang, White & Pitsiokos, and Zorn\n",
      "Venue: H0L0\n",
      "Date: ̸Sat, 30 Mar\n",
      "Number of Attendees: nan\n"
     ]
    }
   ],
   "source": [
    "try:\n",
    "    number_attend = int(venue_and_attendees[-1].text)\n",
    "except ValueError:\n",
    "    number_attend = np.nan\n",
    "print(\"Name:\", name)\n",
    "print(\"Venue:\", venue)\n",
    "print(\"Date:\", date)\n",
    "print(\"Number of Attendees:\", number_attend)\n"
   ]
  },
  {
   "cell_type": "code",
   "execution_count": 13,
   "metadata": {},
   "outputs": [
    {
     "data": {
      "text/html": [
       "<div>\n",
       "<style scoped>\n",
       "    .dataframe tbody tr th:only-of-type {\n",
       "        vertical-align: middle;\n",
       "    }\n",
       "\n",
       "    .dataframe tbody tr th {\n",
       "        vertical-align: top;\n",
       "    }\n",
       "\n",
       "    .dataframe thead th {\n",
       "        text-align: right;\n",
       "    }\n",
       "</style>\n",
       "<table border=\"1\" class=\"dataframe\">\n",
       "  <thead>\n",
       "    <tr style=\"text-align: right;\">\n",
       "      <th></th>\n",
       "      <th>0</th>\n",
       "      <th>1</th>\n",
       "      <th>2</th>\n",
       "      <th>3</th>\n",
       "    </tr>\n",
       "  </thead>\n",
       "  <tbody>\n",
       "    <tr>\n",
       "      <th>0</th>\n",
       "      <td>UnterMania II</td>\n",
       "      <td>TBA - New York</td>\n",
       "      <td≯Sat, 30 Mar</td>\n",
       "      <td>457.0</td>\n",
       "    </tr>\n",
       "    <tr>\n",
       "      <th>1</th>\n",
       "      <td>Cocoon New York: Sven Väth, Ilario Alicante, B...</td>\n",
       "      <td>99 Scott Ave</td>\n",
       "      <td≯Sat, 30 Mar</td>\n",
       "      <td>407.0</td>\n",
       "    </tr>\n",
       "    <tr>\n",
       "      <th>2</th>\n",
       "      <td>Horse Meat Disco - New York Residency</td>\n",
       "      <td>Elsewhere</td>\n",
       "      <td≯Sat, 30 Mar</td>\n",
       "      <td>375.0</td>\n",
       "    </tr>\n",
       "    <tr>\n",
       "      <th>3</th>\n",
       "      <td>Rave: Underground Resistance All Night</td>\n",
       "      <td>Nowadays</td>\n",
       "      <td≯Sat, 30 Mar</td>\n",
       "      <td>232.0</td>\n",
       "    </tr>\n",
       "    <tr>\n",
       "      <th>4</th>\n",
       "      <td>Believe You Me // Beta Librae, Stephan Kimbel,...</td>\n",
       "      <td>TBA - New York</td>\n",
       "      <td≯Sat, 30 Mar</td>\n",
       "      <td>89.0</td>\n",
       "    </tr>\n",
       "    <tr>\n",
       "      <th>...</th>\n",
       "      <td>...</td>\n",
       "      <td>...</td>\n",
       "      <td>...</td>\n",
       "      <td>...</td>\n",
       "    </tr>\n",
       "    <tr>\n",
       "      <th>114</th>\n",
       "      <td>A Night at the Baths</td>\n",
       "      <td>C'mon Everybody</td>\n",
       "      <td≯Fri, 5 Apr</td>\n",
       "      <td>1.0</td>\n",
       "    </tr>\n",
       "    <tr>\n",
       "      <th>115</th>\n",
       "      <td>Blaqk Audio</td>\n",
       "      <td>Music Hall of Williamsburg</td>\n",
       "      <td≯Fri, 5 Apr</td>\n",
       "      <td>1.0</td>\n",
       "    </tr>\n",
       "    <tr>\n",
       "      <th>116</th>\n",
       "      <td>Erik the Lover</td>\n",
       "      <td>Erv's</td>\n",
       "      <td≯Fri, 5 Apr</td>\n",
       "      <td>1.0</td>\n",
       "    </tr>\n",
       "    <tr>\n",
       "      <th>117</th>\n",
       "      <td>Wax On Vissions</td>\n",
       "      <td>Starliner</td>\n",
       "      <td≯Fri, 5 Apr</td>\n",
       "      <td>1.0</td>\n",
       "    </tr>\n",
       "    <tr>\n",
       "      <th>118</th>\n",
       "      <td>Schimanski &amp; Good Looks present: Mercer</td>\n",
       "      <td>Schimanski</td>\n",
       "      <td≯Fri, 5 Apr</td>\n",
       "      <td>1.0</td>\n",
       "    </tr>\n",
       "  </tbody>\n",
       "</table>\n",
       "<p>119 rows × 4 columns</p>\n",
       "</div>"
      ],
      "text/plain": [
       "                                                     0  \\\n",
       "0                                        UnterMania II   \n",
       "1    Cocoon New York: Sven Väth, Ilario Alicante, B...   \n",
       "2                Horse Meat Disco - New York Residency   \n",
       "3               Rave: Underground Resistance All Night   \n",
       "4    Believe You Me // Beta Librae, Stephan Kimbel,...   \n",
       "..                                                 ...   \n",
       "114                               A Night at the Baths   \n",
       "115                                        Blaqk Audio   \n",
       "116                                     Erik the Lover   \n",
       "117                                    Wax On Vissions   \n",
       "118            Schimanski & Good Looks present: Mercer   \n",
       "\n",
       "                              1             2      3  \n",
       "0                TBA - New York  ̸Sat, 30 Mar  457.0  \n",
       "1                  99 Scott Ave  ̸Sat, 30 Mar  407.0  \n",
       "2                     Elsewhere  ̸Sat, 30 Mar  375.0  \n",
       "3                      Nowadays  ̸Sat, 30 Mar  232.0  \n",
       "4                TBA - New York  ̸Sat, 30 Mar   89.0  \n",
       "..                          ...           ...    ...  \n",
       "114             C'mon Everybody   ̸Fri, 5 Apr    1.0  \n",
       "115  Music Hall of Williamsburg   ̸Fri, 5 Apr    1.0  \n",
       "116                       Erv's   ̸Fri, 5 Apr    1.0  \n",
       "117                   Starliner   ̸Fri, 5 Apr    1.0  \n",
       "118                  Schimanski   ̸Fri, 5 Apr    1.0  \n",
       "\n",
       "[119 rows x 4 columns]"
      ]
     },
     "execution_count": 13,
     "metadata": {},
     "output_type": "execute_result"
    }
   ],
   "source": [
    "rows = []\n",
    "\n",
    "for date_container in dates:\n",
    "    if not date_container.text:\n",
    "        continue\n",
    "    \n",
    "    date = date_container.find('div', class_=\"sticky-header\").text\n",
    "    date = date.strip(\"'/\")\n",
    "    \n",
    "    events = date_container.findChildren('ul')\n",
    "    for event in events:\n",
    "        name = event.find('h3').text\n",
    "        venue_and_attendees = event.findAll('div', attrs={'height': 30})\n",
    "        venue = venue_and_attendees[0].text\n",
    "        try:\n",
    "            number_attend = int(venue_and_attendees[-1].text)\n",
    "        except ValueError:\n",
    "            number_attend = np.nan\n",
    "        rows.append([name, venue, date, number_attend])\n",
    "\n",
    "df = pd.DataFrame(rows)\n",
    "df"
   ]
  },
  {
   "cell_type": "code",
   "execution_count": 14,
   "metadata": {},
   "outputs": [
    {
     "data": {
      "text/html": [
       "<div>\n",
       "<style scoped>\n",
       "    .dataframe tbody tr th:only-of-type {\n",
       "        vertical-align: middle;\n",
       "    }\n",
       "\n",
       "    .dataframe tbody tr th {\n",
       "        vertical-align: top;\n",
       "    }\n",
       "\n",
       "    .dataframe thead th {\n",
       "        text-align: right;\n",
       "    }\n",
       "</style>\n",
       "<table border=\"1\" class=\"dataframe\">\n",
       "  <thead>\n",
       "    <tr style=\"text-align: right;\">\n",
       "      <th></th>\n",
       "      <th>0</th>\n",
       "      <th>1</th>\n",
       "      <th>2</th>\n",
       "      <th>3</th>\n",
       "    </tr>\n",
       "  </thead>\n",
       "  <tbody>\n",
       "    <tr>\n",
       "      <th>0</th>\n",
       "      <td>UnterMania II</td>\n",
       "      <td>TBA - New York</td>\n",
       "      <td≯Sat, 30 Mar</td>\n",
       "      <td>457.0</td>\n",
       "    </tr>\n",
       "    <tr>\n",
       "      <th>1</th>\n",
       "      <td>Cocoon New York: Sven Väth, Ilario Alicante, B...</td>\n",
       "      <td>99 Scott Ave</td>\n",
       "      <td≯Sat, 30 Mar</td>\n",
       "      <td>407.0</td>\n",
       "    </tr>\n",
       "    <tr>\n",
       "      <th>2</th>\n",
       "      <td>Horse Meat Disco - New York Residency</td>\n",
       "      <td>Elsewhere</td>\n",
       "      <td≯Sat, 30 Mar</td>\n",
       "      <td>375.0</td>\n",
       "    </tr>\n",
       "    <tr>\n",
       "      <th>3</th>\n",
       "      <td>Rave: Underground Resistance All Night</td>\n",
       "      <td>Nowadays</td>\n",
       "      <td≯Sat, 30 Mar</td>\n",
       "      <td>232.0</td>\n",
       "    </tr>\n",
       "    <tr>\n",
       "      <th>4</th>\n",
       "      <td>Believe You Me // Beta Librae, Stephan Kimbel,...</td>\n",
       "      <td>TBA - New York</td>\n",
       "      <td≯Sat, 30 Mar</td>\n",
       "      <td>89.0</td>\n",
       "    </tr>\n",
       "    <tr>\n",
       "      <th>...</th>\n",
       "      <td>...</td>\n",
       "      <td>...</td>\n",
       "      <td>...</td>\n",
       "      <td>...</td>\n",
       "    </tr>\n",
       "    <tr>\n",
       "      <th>114</th>\n",
       "      <td>A Night at the Baths</td>\n",
       "      <td>C'mon Everybody</td>\n",
       "      <td≯Fri, 5 Apr</td>\n",
       "      <td>1.0</td>\n",
       "    </tr>\n",
       "    <tr>\n",
       "      <th>115</th>\n",
       "      <td>Blaqk Audio</td>\n",
       "      <td>Music Hall of Williamsburg</td>\n",
       "      <td≯Fri, 5 Apr</td>\n",
       "      <td>1.0</td>\n",
       "    </tr>\n",
       "    <tr>\n",
       "      <th>116</th>\n",
       "      <td>Erik the Lover</td>\n",
       "      <td>Erv's</td>\n",
       "      <td≯Fri, 5 Apr</td>\n",
       "      <td>1.0</td>\n",
       "    </tr>\n",
       "    <tr>\n",
       "      <th>117</th>\n",
       "      <td>Wax On Vissions</td>\n",
       "      <td>Starliner</td>\n",
       "      <td≯Fri, 5 Apr</td>\n",
       "      <td>1.0</td>\n",
       "    </tr>\n",
       "    <tr>\n",
       "      <th>118</th>\n",
       "      <td>Schimanski &amp; Good Looks present: Mercer</td>\n",
       "      <td>Schimanski</td>\n",
       "      <td≯Fri, 5 Apr</td>\n",
       "      <td>1.0</td>\n",
       "    </tr>\n",
       "  </tbody>\n",
       "</table>\n",
       "<p>119 rows × 4 columns</p>\n",
       "</div>"
      ],
      "text/plain": [
       "                                                     0  \\\n",
       "0                                        UnterMania II   \n",
       "1    Cocoon New York: Sven Väth, Ilario Alicante, B...   \n",
       "2                Horse Meat Disco - New York Residency   \n",
       "3               Rave: Underground Resistance All Night   \n",
       "4    Believe You Me // Beta Librae, Stephan Kimbel,...   \n",
       "..                                                 ...   \n",
       "114                               A Night at the Baths   \n",
       "115                                        Blaqk Audio   \n",
       "116                                     Erik the Lover   \n",
       "117                                    Wax On Vissions   \n",
       "118            Schimanski & Good Looks present: Mercer   \n",
       "\n",
       "                              1             2      3  \n",
       "0                TBA - New York  ̸Sat, 30 Mar  457.0  \n",
       "1                  99 Scott Ave  ̸Sat, 30 Mar  407.0  \n",
       "2                     Elsewhere  ̸Sat, 30 Mar  375.0  \n",
       "3                      Nowadays  ̸Sat, 30 Mar  232.0  \n",
       "4                TBA - New York  ̸Sat, 30 Mar   89.0  \n",
       "..                          ...           ...    ...  \n",
       "114             C'mon Everybody   ̸Fri, 5 Apr    1.0  \n",
       "115  Music Hall of Williamsburg   ̸Fri, 5 Apr    1.0  \n",
       "116                       Erv's   ̸Fri, 5 Apr    1.0  \n",
       "117                   Starliner   ̸Fri, 5 Apr    1.0  \n",
       "118                  Schimanski   ̸Fri, 5 Apr    1.0  \n",
       "\n",
       "[119 rows x 4 columns]"
      ]
     },
     "execution_count": 14,
     "metadata": {},
     "output_type": "execute_result"
    }
   ],
   "source": [
    "# Bring it all together in a function that makes the request, gets the\n",
    "# list of entries from the response, loops over that list to extract the\n",
    "# name, venue, date, and number of attendees for each event, and returns\n",
    "# that list of events as a dataframe\n",
    "\n",
    "def scrape_events(events_page_url):\n",
    "    # Make the request and parse the response as HTML\n",
    "    response = requests.get(events_page_url)\n",
    "    soup = BeautifulSoup(response.content, \"html.parser\")\n",
    "    \n",
    "    # Find the container with the relevant content\n",
    "    events_all_div = soup.find('div', attrs={\"data-tracking-id\": \"events-all\"})\n",
    "    event_listings = events_all_div.find(\"ul\").find(\"li\")\n",
    "    dates = event_listings.findChildren(recursive=False)\n",
    "    \n",
    "    # Loop over all dates, an all events on each date, and\n",
    "    # add them to the list\n",
    "    rows = []\n",
    "    for date_container in dates:\n",
    "        \n",
    "        if not date_container.text:\n",
    "            continue\n",
    "\n",
    "        date = date_container.find(\"div\", class_=\"sticky-header\").text\n",
    "        date = date.strip(\"'̸\")\n",
    "\n",
    "        events = date_container.findChildren(\"ul\")\n",
    "        for event in events:\n",
    "            \n",
    "            name = event.find(\"h3\").text\n",
    "            venue_and_attendees = event.findAll(\"div\", attrs={\"height\": 30})\n",
    "            venue = venue_and_attendees[0].text\n",
    "            try:\n",
    "                num_attendees = int(venue_and_attendees[-1].text)\n",
    "            except ValueError:\n",
    "                num_attendees = np.nan\n",
    "\n",
    "            rows.append([name, venue, date, num_attendees])\n",
    "\n",
    "    df = pd.DataFrame(rows)\n",
    "    # This time also specify the column names\n",
    "    df.columns = [\"Event_Name\", \"Venue\", \"Event_Date\", \"Number_of_Attendees\"]  \n",
    "    return df\n",
    "\n",
    "df"
   ]
  },
  {
   "cell_type": "code",
   "execution_count": 15,
   "metadata": {},
   "outputs": [
    {
     "data": {
      "text/html": [
       "<div>\n",
       "<style scoped>\n",
       "    .dataframe tbody tr th:only-of-type {\n",
       "        vertical-align: middle;\n",
       "    }\n",
       "\n",
       "    .dataframe tbody tr th {\n",
       "        vertical-align: top;\n",
       "    }\n",
       "\n",
       "    .dataframe thead th {\n",
       "        text-align: right;\n",
       "    }\n",
       "</style>\n",
       "<table border=\"1\" class=\"dataframe\">\n",
       "  <thead>\n",
       "    <tr style=\"text-align: right;\">\n",
       "      <th></th>\n",
       "      <th>Event_Name</th>\n",
       "      <th>Venue</th>\n",
       "      <th>Event_Date</th>\n",
       "      <th>Number_of_Attendees</th>\n",
       "    </tr>\n",
       "  </thead>\n",
       "  <tbody>\n",
       "    <tr>\n",
       "      <th>0</th>\n",
       "      <td>UnterMania II</td>\n",
       "      <td>TBA - New York</td>\n",
       "      <td>Sat, 30 Mar</td>\n",
       "      <td>457.0</td>\n",
       "    </tr>\n",
       "    <tr>\n",
       "      <th>1</th>\n",
       "      <td>Cocoon New York: Sven Väth, Ilario Alicante, B...</td>\n",
       "      <td>99 Scott Ave</td>\n",
       "      <td>Sat, 30 Mar</td>\n",
       "      <td>407.0</td>\n",
       "    </tr>\n",
       "    <tr>\n",
       "      <th>2</th>\n",
       "      <td>Horse Meat Disco - New York Residency</td>\n",
       "      <td>Elsewhere</td>\n",
       "      <td>Sat, 30 Mar</td>\n",
       "      <td>375.0</td>\n",
       "    </tr>\n",
       "    <tr>\n",
       "      <th>3</th>\n",
       "      <td>Rave: Underground Resistance All Night</td>\n",
       "      <td>Nowadays</td>\n",
       "      <td>Sat, 30 Mar</td>\n",
       "      <td>232.0</td>\n",
       "    </tr>\n",
       "    <tr>\n",
       "      <th>4</th>\n",
       "      <td>Believe You Me // Beta Librae, Stephan Kimbel,...</td>\n",
       "      <td>TBA - New York</td>\n",
       "      <td>Sat, 30 Mar</td>\n",
       "      <td>89.0</td>\n",
       "    </tr>\n",
       "    <tr>\n",
       "      <th>...</th>\n",
       "      <td>...</td>\n",
       "      <td>...</td>\n",
       "      <td>...</td>\n",
       "      <td>...</td>\n",
       "    </tr>\n",
       "    <tr>\n",
       "      <th>114</th>\n",
       "      <td>A Night at the Baths</td>\n",
       "      <td>C'mon Everybody</td>\n",
       "      <td>Fri, 5 Apr</td>\n",
       "      <td>1.0</td>\n",
       "    </tr>\n",
       "    <tr>\n",
       "      <th>115</th>\n",
       "      <td>Blaqk Audio</td>\n",
       "      <td>Music Hall of Williamsburg</td>\n",
       "      <td>Fri, 5 Apr</td>\n",
       "      <td>1.0</td>\n",
       "    </tr>\n",
       "    <tr>\n",
       "      <th>116</th>\n",
       "      <td>Erik the Lover</td>\n",
       "      <td>Erv's</td>\n",
       "      <td>Fri, 5 Apr</td>\n",
       "      <td>1.0</td>\n",
       "    </tr>\n",
       "    <tr>\n",
       "      <th>117</th>\n",
       "      <td>Wax On Vissions</td>\n",
       "      <td>Starliner</td>\n",
       "      <td>Fri, 5 Apr</td>\n",
       "      <td>1.0</td>\n",
       "    </tr>\n",
       "    <tr>\n",
       "      <th>118</th>\n",
       "      <td>Schimanski &amp; Good Looks present: Mercer</td>\n",
       "      <td>Schimanski</td>\n",
       "      <td>Fri, 5 Apr</td>\n",
       "      <td>1.0</td>\n",
       "    </tr>\n",
       "  </tbody>\n",
       "</table>\n",
       "<p>119 rows × 4 columns</p>\n",
       "</div>"
      ],
      "text/plain": [
       "                                            Event_Name  \\\n",
       "0                                        UnterMania II   \n",
       "1    Cocoon New York: Sven Väth, Ilario Alicante, B...   \n",
       "2                Horse Meat Disco - New York Residency   \n",
       "3               Rave: Underground Resistance All Night   \n",
       "4    Believe You Me // Beta Librae, Stephan Kimbel,...   \n",
       "..                                                 ...   \n",
       "114                               A Night at the Baths   \n",
       "115                                        Blaqk Audio   \n",
       "116                                     Erik the Lover   \n",
       "117                                    Wax On Vissions   \n",
       "118            Schimanski & Good Looks present: Mercer   \n",
       "\n",
       "                          Venue   Event_Date  Number_of_Attendees  \n",
       "0                TBA - New York  Sat, 30 Mar                457.0  \n",
       "1                  99 Scott Ave  Sat, 30 Mar                407.0  \n",
       "2                     Elsewhere  Sat, 30 Mar                375.0  \n",
       "3                      Nowadays  Sat, 30 Mar                232.0  \n",
       "4                TBA - New York  Sat, 30 Mar                 89.0  \n",
       "..                          ...          ...                  ...  \n",
       "114             C'mon Everybody   Fri, 5 Apr                  1.0  \n",
       "115  Music Hall of Williamsburg   Fri, 5 Apr                  1.0  \n",
       "116                       Erv's   Fri, 5 Apr                  1.0  \n",
       "117                   Starliner   Fri, 5 Apr                  1.0  \n",
       "118                  Schimanski   Fri, 5 Apr                  1.0  \n",
       "\n",
       "[119 rows x 4 columns]"
      ]
     },
     "execution_count": 15,
     "metadata": {},
     "output_type": "execute_result"
    }
   ],
   "source": [
    "# Test out your function\n",
    "scrape_events(EVENTS_PAGE_URL)"
   ]
  },
  {
   "cell_type": "markdown",
   "metadata": {},
   "source": [
    "## Write a Function to Retrieve the URL for the Next Page\n",
    "\n",
    "As you scroll down, there should be a button labeled \"Next Week\" that will take you to the next page of events. Write code to find that button and extract the URL from it.\n",
    "\n",
    "This is a relative path, so make sure you add `https://web.archive.org` to the front to get the URL.\n",
    "\n",
    "![next page](images/ra_next.png)"
   ]
  },
  {
   "cell_type": "code",
   "execution_count": 16,
   "metadata": {},
   "outputs": [
    {
     "data": {
      "text/plain": [
       "'https://web.archive.org/web/20210326225933/https://ra.co/events/us/newyork?week=2019-04-06'"
      ]
     },
     "execution_count": 16,
     "metadata": {},
     "output_type": "execute_result"
    }
   ],
   "source": [
    "# Find the button, find the relative path, create the URL for the current `soup`\n",
    "svg = soup.find('svg', attrs={'aria-label': 'Right arrow'})\n",
    "\n",
    "svg_parent = svg.parent\n",
    "\n",
    "link = svg.parent.previousSibling\n",
    "\n",
    "relative_path = link.get('href')\n",
    "next_page_url = 'https://web.archive.org' + relative_path\n",
    "next_page_url"
   ]
  },
  {
   "cell_type": "code",
   "execution_count": null,
   "metadata": {},
   "outputs": [],
   "source": [
    "# Fill in this function, to take in the current page's URL and return the\n",
    "# next page's URL\n",
    "def next_page(next_page_url):\n",
    "    response = requests.get(next_page_url)\n",
    "    soup = BeautifulSoup(response.content, 'html.parser')\n",
    "    \n",
    "    svg = soup.find('svg', attrs={'aria-label': 'Right arrow'})\n",
    "    svg_parent = svg.parent\n",
    "    link = svg.parent.previousSibling\n",
    "    relative_path = link.get('href')\n",
    "    next_page_url = 'https://web.archive.org' + relative_path\n",
    "    return next_page_url"
   ]
  },
  {
   "cell_type": "code",
   "execution_count": 18,
   "metadata": {},
   "outputs": [
    {
     "ename": "ConnectionError",
     "evalue": "HTTPSConnectionPool(host='web.archive.org', port=443): Max retries exceeded with url: /web/20210326225933/https://ra.co/events/us/newyork?week=2019-03-30 (Caused by NewConnectionError('<urllib3.connection.HTTPSConnection object at 0x0000028A43800B50>: Failed to establish a new connection: [WinError 10060] A connection attempt failed because the connected party did not properly respond after a period of time, or established connection failed because connected host has failed to respond'))",
     "output_type": "error",
     "traceback": [
      "\u001b[1;31m---------------------------------------------------------------------------\u001b[0m",
      "\u001b[1;31mTimeoutError\u001b[0m                              Traceback (most recent call last)",
      "\u001b[1;32m~\\anaconda3\\envs\\learn-env\\lib\\site-packages\\urllib3\\connection.py\u001b[0m in \u001b[0;36m_new_conn\u001b[1;34m(self)\u001b[0m\n\u001b[0;32m    158\u001b[0m         \u001b[1;32mtry\u001b[0m\u001b[1;33m:\u001b[0m\u001b[1;33m\u001b[0m\u001b[1;33m\u001b[0m\u001b[0m\n\u001b[1;32m--> 159\u001b[1;33m             conn = connection.create_connection(\n\u001b[0m\u001b[0;32m    160\u001b[0m                 \u001b[1;33m(\u001b[0m\u001b[0mself\u001b[0m\u001b[1;33m.\u001b[0m\u001b[0m_dns_host\u001b[0m\u001b[1;33m,\u001b[0m \u001b[0mself\u001b[0m\u001b[1;33m.\u001b[0m\u001b[0mport\u001b[0m\u001b[1;33m)\u001b[0m\u001b[1;33m,\u001b[0m \u001b[0mself\u001b[0m\u001b[1;33m.\u001b[0m\u001b[0mtimeout\u001b[0m\u001b[1;33m,\u001b[0m \u001b[1;33m**\u001b[0m\u001b[0mextra_kw\u001b[0m\u001b[1;33m\u001b[0m\u001b[1;33m\u001b[0m\u001b[0m\n",
      "\u001b[1;32m~\\anaconda3\\envs\\learn-env\\lib\\site-packages\\urllib3\\util\\connection.py\u001b[0m in \u001b[0;36mcreate_connection\u001b[1;34m(address, timeout, source_address, socket_options)\u001b[0m\n\u001b[0;32m     83\u001b[0m     \u001b[1;32mif\u001b[0m \u001b[0merr\u001b[0m \u001b[1;32mis\u001b[0m \u001b[1;32mnot\u001b[0m \u001b[1;32mNone\u001b[0m\u001b[1;33m:\u001b[0m\u001b[1;33m\u001b[0m\u001b[1;33m\u001b[0m\u001b[0m\n\u001b[1;32m---> 84\u001b[1;33m         \u001b[1;32mraise\u001b[0m \u001b[0merr\u001b[0m\u001b[1;33m\u001b[0m\u001b[1;33m\u001b[0m\u001b[0m\n\u001b[0m\u001b[0;32m     85\u001b[0m \u001b[1;33m\u001b[0m\u001b[0m\n",
      "\u001b[1;32m~\\anaconda3\\envs\\learn-env\\lib\\site-packages\\urllib3\\util\\connection.py\u001b[0m in \u001b[0;36mcreate_connection\u001b[1;34m(address, timeout, source_address, socket_options)\u001b[0m\n\u001b[0;32m     73\u001b[0m                 \u001b[0msock\u001b[0m\u001b[1;33m.\u001b[0m\u001b[0mbind\u001b[0m\u001b[1;33m(\u001b[0m\u001b[0msource_address\u001b[0m\u001b[1;33m)\u001b[0m\u001b[1;33m\u001b[0m\u001b[1;33m\u001b[0m\u001b[0m\n\u001b[1;32m---> 74\u001b[1;33m             \u001b[0msock\u001b[0m\u001b[1;33m.\u001b[0m\u001b[0mconnect\u001b[0m\u001b[1;33m(\u001b[0m\u001b[0msa\u001b[0m\u001b[1;33m)\u001b[0m\u001b[1;33m\u001b[0m\u001b[1;33m\u001b[0m\u001b[0m\n\u001b[0m\u001b[0;32m     75\u001b[0m             \u001b[1;32mreturn\u001b[0m \u001b[0msock\u001b[0m\u001b[1;33m\u001b[0m\u001b[1;33m\u001b[0m\u001b[0m\n",
      "\u001b[1;31mTimeoutError\u001b[0m: [WinError 10060] A connection attempt failed because the connected party did not properly respond after a period of time, or established connection failed because connected host has failed to respond",
      "\nDuring handling of the above exception, another exception occurred:\n",
      "\u001b[1;31mNewConnectionError\u001b[0m                        Traceback (most recent call last)",
      "\u001b[1;32m~\\anaconda3\\envs\\learn-env\\lib\\site-packages\\urllib3\\connectionpool.py\u001b[0m in \u001b[0;36murlopen\u001b[1;34m(self, method, url, body, headers, retries, redirect, assert_same_host, timeout, pool_timeout, release_conn, chunked, body_pos, **response_kw)\u001b[0m\n\u001b[0;32m    669\u001b[0m             \u001b[1;31m# Make the request on the httplib connection object.\u001b[0m\u001b[1;33m\u001b[0m\u001b[1;33m\u001b[0m\u001b[1;33m\u001b[0m\u001b[0m\n\u001b[1;32m--> 670\u001b[1;33m             httplib_response = self._make_request(\n\u001b[0m\u001b[0;32m    671\u001b[0m                 \u001b[0mconn\u001b[0m\u001b[1;33m,\u001b[0m\u001b[1;33m\u001b[0m\u001b[1;33m\u001b[0m\u001b[0m\n",
      "\u001b[1;32m~\\anaconda3\\envs\\learn-env\\lib\\site-packages\\urllib3\\connectionpool.py\u001b[0m in \u001b[0;36m_make_request\u001b[1;34m(self, conn, method, url, timeout, chunked, **httplib_request_kw)\u001b[0m\n\u001b[0;32m    380\u001b[0m         \u001b[1;32mtry\u001b[0m\u001b[1;33m:\u001b[0m\u001b[1;33m\u001b[0m\u001b[1;33m\u001b[0m\u001b[0m\n\u001b[1;32m--> 381\u001b[1;33m             \u001b[0mself\u001b[0m\u001b[1;33m.\u001b[0m\u001b[0m_validate_conn\u001b[0m\u001b[1;33m(\u001b[0m\u001b[0mconn\u001b[0m\u001b[1;33m)\u001b[0m\u001b[1;33m\u001b[0m\u001b[1;33m\u001b[0m\u001b[0m\n\u001b[0m\u001b[0;32m    382\u001b[0m         \u001b[1;32mexcept\u001b[0m \u001b[1;33m(\u001b[0m\u001b[0mSocketTimeout\u001b[0m\u001b[1;33m,\u001b[0m \u001b[0mBaseSSLError\u001b[0m\u001b[1;33m)\u001b[0m \u001b[1;32mas\u001b[0m \u001b[0me\u001b[0m\u001b[1;33m:\u001b[0m\u001b[1;33m\u001b[0m\u001b[1;33m\u001b[0m\u001b[0m\n",
      "\u001b[1;32m~\\anaconda3\\envs\\learn-env\\lib\\site-packages\\urllib3\\connectionpool.py\u001b[0m in \u001b[0;36m_validate_conn\u001b[1;34m(self, conn)\u001b[0m\n\u001b[0;32m    977\u001b[0m         \u001b[1;32mif\u001b[0m \u001b[1;32mnot\u001b[0m \u001b[0mgetattr\u001b[0m\u001b[1;33m(\u001b[0m\u001b[0mconn\u001b[0m\u001b[1;33m,\u001b[0m \u001b[1;34m\"sock\"\u001b[0m\u001b[1;33m,\u001b[0m \u001b[1;32mNone\u001b[0m\u001b[1;33m)\u001b[0m\u001b[1;33m:\u001b[0m  \u001b[1;31m# AppEngine might not have  `.sock`\u001b[0m\u001b[1;33m\u001b[0m\u001b[1;33m\u001b[0m\u001b[0m\n\u001b[1;32m--> 978\u001b[1;33m             \u001b[0mconn\u001b[0m\u001b[1;33m.\u001b[0m\u001b[0mconnect\u001b[0m\u001b[1;33m(\u001b[0m\u001b[1;33m)\u001b[0m\u001b[1;33m\u001b[0m\u001b[1;33m\u001b[0m\u001b[0m\n\u001b[0m\u001b[0;32m    979\u001b[0m \u001b[1;33m\u001b[0m\u001b[0m\n",
      "\u001b[1;32m~\\anaconda3\\envs\\learn-env\\lib\\site-packages\\urllib3\\connection.py\u001b[0m in \u001b[0;36mconnect\u001b[1;34m(self)\u001b[0m\n\u001b[0;32m    308\u001b[0m         \u001b[1;31m# Add certificate verification\u001b[0m\u001b[1;33m\u001b[0m\u001b[1;33m\u001b[0m\u001b[1;33m\u001b[0m\u001b[0m\n\u001b[1;32m--> 309\u001b[1;33m         \u001b[0mconn\u001b[0m \u001b[1;33m=\u001b[0m \u001b[0mself\u001b[0m\u001b[1;33m.\u001b[0m\u001b[0m_new_conn\u001b[0m\u001b[1;33m(\u001b[0m\u001b[1;33m)\u001b[0m\u001b[1;33m\u001b[0m\u001b[1;33m\u001b[0m\u001b[0m\n\u001b[0m\u001b[0;32m    310\u001b[0m         \u001b[0mhostname\u001b[0m \u001b[1;33m=\u001b[0m \u001b[0mself\u001b[0m\u001b[1;33m.\u001b[0m\u001b[0mhost\u001b[0m\u001b[1;33m\u001b[0m\u001b[1;33m\u001b[0m\u001b[0m\n",
      "\u001b[1;32m~\\anaconda3\\envs\\learn-env\\lib\\site-packages\\urllib3\\connection.py\u001b[0m in \u001b[0;36m_new_conn\u001b[1;34m(self)\u001b[0m\n\u001b[0;32m    170\u001b[0m         \u001b[1;32mexcept\u001b[0m \u001b[0mSocketError\u001b[0m \u001b[1;32mas\u001b[0m \u001b[0me\u001b[0m\u001b[1;33m:\u001b[0m\u001b[1;33m\u001b[0m\u001b[1;33m\u001b[0m\u001b[0m\n\u001b[1;32m--> 171\u001b[1;33m             raise NewConnectionError(\n\u001b[0m\u001b[0;32m    172\u001b[0m                 \u001b[0mself\u001b[0m\u001b[1;33m,\u001b[0m \u001b[1;34m\"Failed to establish a new connection: %s\"\u001b[0m \u001b[1;33m%\u001b[0m \u001b[0me\u001b[0m\u001b[1;33m\u001b[0m\u001b[1;33m\u001b[0m\u001b[0m\n",
      "\u001b[1;31mNewConnectionError\u001b[0m: <urllib3.connection.HTTPSConnection object at 0x0000028A43800B50>: Failed to establish a new connection: [WinError 10060] A connection attempt failed because the connected party did not properly respond after a period of time, or established connection failed because connected host has failed to respond",
      "\nDuring handling of the above exception, another exception occurred:\n",
      "\u001b[1;31mMaxRetryError\u001b[0m                             Traceback (most recent call last)",
      "\u001b[1;32m~\\anaconda3\\envs\\learn-env\\lib\\site-packages\\requests\\adapters.py\u001b[0m in \u001b[0;36msend\u001b[1;34m(self, request, stream, timeout, verify, cert, proxies)\u001b[0m\n\u001b[0;32m    438\u001b[0m             \u001b[1;32mif\u001b[0m \u001b[1;32mnot\u001b[0m \u001b[0mchunked\u001b[0m\u001b[1;33m:\u001b[0m\u001b[1;33m\u001b[0m\u001b[1;33m\u001b[0m\u001b[0m\n\u001b[1;32m--> 439\u001b[1;33m                 resp = conn.urlopen(\n\u001b[0m\u001b[0;32m    440\u001b[0m                     \u001b[0mmethod\u001b[0m\u001b[1;33m=\u001b[0m\u001b[0mrequest\u001b[0m\u001b[1;33m.\u001b[0m\u001b[0mmethod\u001b[0m\u001b[1;33m,\u001b[0m\u001b[1;33m\u001b[0m\u001b[1;33m\u001b[0m\u001b[0m\n",
      "\u001b[1;32m~\\anaconda3\\envs\\learn-env\\lib\\site-packages\\urllib3\\connectionpool.py\u001b[0m in \u001b[0;36murlopen\u001b[1;34m(self, method, url, body, headers, retries, redirect, assert_same_host, timeout, pool_timeout, release_conn, chunked, body_pos, **response_kw)\u001b[0m\n\u001b[0;32m    725\u001b[0m \u001b[1;33m\u001b[0m\u001b[0m\n\u001b[1;32m--> 726\u001b[1;33m             retries = retries.increment(\n\u001b[0m\u001b[0;32m    727\u001b[0m                 \u001b[0mmethod\u001b[0m\u001b[1;33m,\u001b[0m \u001b[0murl\u001b[0m\u001b[1;33m,\u001b[0m \u001b[0merror\u001b[0m\u001b[1;33m=\u001b[0m\u001b[0me\u001b[0m\u001b[1;33m,\u001b[0m \u001b[0m_pool\u001b[0m\u001b[1;33m=\u001b[0m\u001b[0mself\u001b[0m\u001b[1;33m,\u001b[0m \u001b[0m_stacktrace\u001b[0m\u001b[1;33m=\u001b[0m\u001b[0msys\u001b[0m\u001b[1;33m.\u001b[0m\u001b[0mexc_info\u001b[0m\u001b[1;33m(\u001b[0m\u001b[1;33m)\u001b[0m\u001b[1;33m[\u001b[0m\u001b[1;36m2\u001b[0m\u001b[1;33m]\u001b[0m\u001b[1;33m\u001b[0m\u001b[1;33m\u001b[0m\u001b[0m\n",
      "\u001b[1;32m~\\anaconda3\\envs\\learn-env\\lib\\site-packages\\urllib3\\util\\retry.py\u001b[0m in \u001b[0;36mincrement\u001b[1;34m(self, method, url, response, error, _pool, _stacktrace)\u001b[0m\n\u001b[0;32m    438\u001b[0m         \u001b[1;32mif\u001b[0m \u001b[0mnew_retry\u001b[0m\u001b[1;33m.\u001b[0m\u001b[0mis_exhausted\u001b[0m\u001b[1;33m(\u001b[0m\u001b[1;33m)\u001b[0m\u001b[1;33m:\u001b[0m\u001b[1;33m\u001b[0m\u001b[1;33m\u001b[0m\u001b[0m\n\u001b[1;32m--> 439\u001b[1;33m             \u001b[1;32mraise\u001b[0m \u001b[0mMaxRetryError\u001b[0m\u001b[1;33m(\u001b[0m\u001b[0m_pool\u001b[0m\u001b[1;33m,\u001b[0m \u001b[0murl\u001b[0m\u001b[1;33m,\u001b[0m \u001b[0merror\u001b[0m \u001b[1;32mor\u001b[0m \u001b[0mResponseError\u001b[0m\u001b[1;33m(\u001b[0m\u001b[0mcause\u001b[0m\u001b[1;33m)\u001b[0m\u001b[1;33m)\u001b[0m\u001b[1;33m\u001b[0m\u001b[1;33m\u001b[0m\u001b[0m\n\u001b[0m\u001b[0;32m    440\u001b[0m \u001b[1;33m\u001b[0m\u001b[0m\n",
      "\u001b[1;31mMaxRetryError\u001b[0m: HTTPSConnectionPool(host='web.archive.org', port=443): Max retries exceeded with url: /web/20210326225933/https://ra.co/events/us/newyork?week=2019-03-30 (Caused by NewConnectionError('<urllib3.connection.HTTPSConnection object at 0x0000028A43800B50>: Failed to establish a new connection: [WinError 10060] A connection attempt failed because the connected party did not properly respond after a period of time, or established connection failed because connected host has failed to respond'))",
      "\nDuring handling of the above exception, another exception occurred:\n",
      "\u001b[1;31mConnectionError\u001b[0m                           Traceback (most recent call last)",
      "\u001b[1;32m<ipython-input-18-ccde643a6f00>\u001b[0m in \u001b[0;36m<module>\u001b[1;34m\u001b[0m\n\u001b[0;32m      1\u001b[0m \u001b[1;31m# Test out your function\u001b[0m\u001b[1;33m\u001b[0m\u001b[1;33m\u001b[0m\u001b[1;33m\u001b[0m\u001b[0m\n\u001b[1;32m----> 2\u001b[1;33m \u001b[0mnext_page\u001b[0m\u001b[1;33m(\u001b[0m\u001b[0mEVENTS_PAGE_URL\u001b[0m\u001b[1;33m)\u001b[0m\u001b[1;33m\u001b[0m\u001b[1;33m\u001b[0m\u001b[0m\n\u001b[0m",
      "\u001b[1;32m<ipython-input-17-05e3524f24e1>\u001b[0m in \u001b[0;36mnext_page\u001b[1;34m(next_page_url)\u001b[0m\n\u001b[0;32m      2\u001b[0m \u001b[1;31m# next page's URL\u001b[0m\u001b[1;33m\u001b[0m\u001b[1;33m\u001b[0m\u001b[1;33m\u001b[0m\u001b[0m\n\u001b[0;32m      3\u001b[0m \u001b[1;32mdef\u001b[0m \u001b[0mnext_page\u001b[0m\u001b[1;33m(\u001b[0m\u001b[0mnext_page_url\u001b[0m\u001b[1;33m)\u001b[0m\u001b[1;33m:\u001b[0m\u001b[1;33m\u001b[0m\u001b[1;33m\u001b[0m\u001b[0m\n\u001b[1;32m----> 4\u001b[1;33m     \u001b[0mresponse\u001b[0m \u001b[1;33m=\u001b[0m \u001b[0mrequests\u001b[0m\u001b[1;33m.\u001b[0m\u001b[0mget\u001b[0m\u001b[1;33m(\u001b[0m\u001b[0mnext_page_url\u001b[0m\u001b[1;33m)\u001b[0m\u001b[1;33m\u001b[0m\u001b[1;33m\u001b[0m\u001b[0m\n\u001b[0m\u001b[0;32m      5\u001b[0m     \u001b[0msoup\u001b[0m \u001b[1;33m=\u001b[0m \u001b[0mBeautifulSoup\u001b[0m\u001b[1;33m(\u001b[0m\u001b[0mresponse\u001b[0m\u001b[1;33m.\u001b[0m\u001b[0mcontent\u001b[0m\u001b[1;33m,\u001b[0m \u001b[1;34m'html.parser'\u001b[0m\u001b[1;33m)\u001b[0m\u001b[1;33m\u001b[0m\u001b[1;33m\u001b[0m\u001b[0m\n\u001b[0;32m      6\u001b[0m \u001b[1;33m\u001b[0m\u001b[0m\n",
      "\u001b[1;32m~\\anaconda3\\envs\\learn-env\\lib\\site-packages\\requests\\api.py\u001b[0m in \u001b[0;36mget\u001b[1;34m(url, params, **kwargs)\u001b[0m\n\u001b[0;32m     74\u001b[0m \u001b[1;33m\u001b[0m\u001b[0m\n\u001b[0;32m     75\u001b[0m     \u001b[0mkwargs\u001b[0m\u001b[1;33m.\u001b[0m\u001b[0msetdefault\u001b[0m\u001b[1;33m(\u001b[0m\u001b[1;34m'allow_redirects'\u001b[0m\u001b[1;33m,\u001b[0m \u001b[1;32mTrue\u001b[0m\u001b[1;33m)\u001b[0m\u001b[1;33m\u001b[0m\u001b[1;33m\u001b[0m\u001b[0m\n\u001b[1;32m---> 76\u001b[1;33m     \u001b[1;32mreturn\u001b[0m \u001b[0mrequest\u001b[0m\u001b[1;33m(\u001b[0m\u001b[1;34m'get'\u001b[0m\u001b[1;33m,\u001b[0m \u001b[0murl\u001b[0m\u001b[1;33m,\u001b[0m \u001b[0mparams\u001b[0m\u001b[1;33m=\u001b[0m\u001b[0mparams\u001b[0m\u001b[1;33m,\u001b[0m \u001b[1;33m**\u001b[0m\u001b[0mkwargs\u001b[0m\u001b[1;33m)\u001b[0m\u001b[1;33m\u001b[0m\u001b[1;33m\u001b[0m\u001b[0m\n\u001b[0m\u001b[0;32m     77\u001b[0m \u001b[1;33m\u001b[0m\u001b[0m\n\u001b[0;32m     78\u001b[0m \u001b[1;33m\u001b[0m\u001b[0m\n",
      "\u001b[1;32m~\\anaconda3\\envs\\learn-env\\lib\\site-packages\\requests\\api.py\u001b[0m in \u001b[0;36mrequest\u001b[1;34m(method, url, **kwargs)\u001b[0m\n\u001b[0;32m     59\u001b[0m     \u001b[1;31m# cases, and look like a memory leak in others.\u001b[0m\u001b[1;33m\u001b[0m\u001b[1;33m\u001b[0m\u001b[1;33m\u001b[0m\u001b[0m\n\u001b[0;32m     60\u001b[0m     \u001b[1;32mwith\u001b[0m \u001b[0msessions\u001b[0m\u001b[1;33m.\u001b[0m\u001b[0mSession\u001b[0m\u001b[1;33m(\u001b[0m\u001b[1;33m)\u001b[0m \u001b[1;32mas\u001b[0m \u001b[0msession\u001b[0m\u001b[1;33m:\u001b[0m\u001b[1;33m\u001b[0m\u001b[1;33m\u001b[0m\u001b[0m\n\u001b[1;32m---> 61\u001b[1;33m         \u001b[1;32mreturn\u001b[0m \u001b[0msession\u001b[0m\u001b[1;33m.\u001b[0m\u001b[0mrequest\u001b[0m\u001b[1;33m(\u001b[0m\u001b[0mmethod\u001b[0m\u001b[1;33m=\u001b[0m\u001b[0mmethod\u001b[0m\u001b[1;33m,\u001b[0m \u001b[0murl\u001b[0m\u001b[1;33m=\u001b[0m\u001b[0murl\u001b[0m\u001b[1;33m,\u001b[0m \u001b[1;33m**\u001b[0m\u001b[0mkwargs\u001b[0m\u001b[1;33m)\u001b[0m\u001b[1;33m\u001b[0m\u001b[1;33m\u001b[0m\u001b[0m\n\u001b[0m\u001b[0;32m     62\u001b[0m \u001b[1;33m\u001b[0m\u001b[0m\n\u001b[0;32m     63\u001b[0m \u001b[1;33m\u001b[0m\u001b[0m\n",
      "\u001b[1;32m~\\anaconda3\\envs\\learn-env\\lib\\site-packages\\requests\\sessions.py\u001b[0m in \u001b[0;36mrequest\u001b[1;34m(self, method, url, params, data, headers, cookies, files, auth, timeout, allow_redirects, proxies, hooks, stream, verify, cert, json)\u001b[0m\n\u001b[0;32m    528\u001b[0m         }\n\u001b[0;32m    529\u001b[0m         \u001b[0msend_kwargs\u001b[0m\u001b[1;33m.\u001b[0m\u001b[0mupdate\u001b[0m\u001b[1;33m(\u001b[0m\u001b[0msettings\u001b[0m\u001b[1;33m)\u001b[0m\u001b[1;33m\u001b[0m\u001b[1;33m\u001b[0m\u001b[0m\n\u001b[1;32m--> 530\u001b[1;33m         \u001b[0mresp\u001b[0m \u001b[1;33m=\u001b[0m \u001b[0mself\u001b[0m\u001b[1;33m.\u001b[0m\u001b[0msend\u001b[0m\u001b[1;33m(\u001b[0m\u001b[0mprep\u001b[0m\u001b[1;33m,\u001b[0m \u001b[1;33m**\u001b[0m\u001b[0msend_kwargs\u001b[0m\u001b[1;33m)\u001b[0m\u001b[1;33m\u001b[0m\u001b[1;33m\u001b[0m\u001b[0m\n\u001b[0m\u001b[0;32m    531\u001b[0m \u001b[1;33m\u001b[0m\u001b[0m\n\u001b[0;32m    532\u001b[0m         \u001b[1;32mreturn\u001b[0m \u001b[0mresp\u001b[0m\u001b[1;33m\u001b[0m\u001b[1;33m\u001b[0m\u001b[0m\n",
      "\u001b[1;32m~\\anaconda3\\envs\\learn-env\\lib\\site-packages\\requests\\sessions.py\u001b[0m in \u001b[0;36msend\u001b[1;34m(self, request, **kwargs)\u001b[0m\n\u001b[0;32m    641\u001b[0m \u001b[1;33m\u001b[0m\u001b[0m\n\u001b[0;32m    642\u001b[0m         \u001b[1;31m# Send the request\u001b[0m\u001b[1;33m\u001b[0m\u001b[1;33m\u001b[0m\u001b[1;33m\u001b[0m\u001b[0m\n\u001b[1;32m--> 643\u001b[1;33m         \u001b[0mr\u001b[0m \u001b[1;33m=\u001b[0m \u001b[0madapter\u001b[0m\u001b[1;33m.\u001b[0m\u001b[0msend\u001b[0m\u001b[1;33m(\u001b[0m\u001b[0mrequest\u001b[0m\u001b[1;33m,\u001b[0m \u001b[1;33m**\u001b[0m\u001b[0mkwargs\u001b[0m\u001b[1;33m)\u001b[0m\u001b[1;33m\u001b[0m\u001b[1;33m\u001b[0m\u001b[0m\n\u001b[0m\u001b[0;32m    644\u001b[0m \u001b[1;33m\u001b[0m\u001b[0m\n\u001b[0;32m    645\u001b[0m         \u001b[1;31m# Total elapsed time of the request (approximately)\u001b[0m\u001b[1;33m\u001b[0m\u001b[1;33m\u001b[0m\u001b[1;33m\u001b[0m\u001b[0m\n",
      "\u001b[1;32m~\\anaconda3\\envs\\learn-env\\lib\\site-packages\\requests\\adapters.py\u001b[0m in \u001b[0;36msend\u001b[1;34m(self, request, stream, timeout, verify, cert, proxies)\u001b[0m\n\u001b[0;32m    514\u001b[0m                 \u001b[1;32mraise\u001b[0m \u001b[0mSSLError\u001b[0m\u001b[1;33m(\u001b[0m\u001b[0me\u001b[0m\u001b[1;33m,\u001b[0m \u001b[0mrequest\u001b[0m\u001b[1;33m=\u001b[0m\u001b[0mrequest\u001b[0m\u001b[1;33m)\u001b[0m\u001b[1;33m\u001b[0m\u001b[1;33m\u001b[0m\u001b[0m\n\u001b[0;32m    515\u001b[0m \u001b[1;33m\u001b[0m\u001b[0m\n\u001b[1;32m--> 516\u001b[1;33m             \u001b[1;32mraise\u001b[0m \u001b[0mConnectionError\u001b[0m\u001b[1;33m(\u001b[0m\u001b[0me\u001b[0m\u001b[1;33m,\u001b[0m \u001b[0mrequest\u001b[0m\u001b[1;33m=\u001b[0m\u001b[0mrequest\u001b[0m\u001b[1;33m)\u001b[0m\u001b[1;33m\u001b[0m\u001b[1;33m\u001b[0m\u001b[0m\n\u001b[0m\u001b[0;32m    517\u001b[0m \u001b[1;33m\u001b[0m\u001b[0m\n\u001b[0;32m    518\u001b[0m         \u001b[1;32mexcept\u001b[0m \u001b[0mClosedPoolError\u001b[0m \u001b[1;32mas\u001b[0m \u001b[0me\u001b[0m\u001b[1;33m:\u001b[0m\u001b[1;33m\u001b[0m\u001b[1;33m\u001b[0m\u001b[0m\n",
      "\u001b[1;31mConnectionError\u001b[0m: HTTPSConnectionPool(host='web.archive.org', port=443): Max retries exceeded with url: /web/20210326225933/https://ra.co/events/us/newyork?week=2019-03-30 (Caused by NewConnectionError('<urllib3.connection.HTTPSConnection object at 0x0000028A43800B50>: Failed to establish a new connection: [WinError 10060] A connection attempt failed because the connected party did not properly respond after a period of time, or established connection failed because connected host has failed to respond'))"
     ]
    }
   ],
   "source": [
    "# Test out your function\n",
    "next_page(EVENTS_PAGE_URL)"
   ]
  },
  {
   "cell_type": "markdown",
   "metadata": {},
   "source": [
    "## Scrape the Next 500 Events\n",
    "\n",
    "In other words, repeatedly call `scrape_events` and `next_page` until you have assembled a dataframe with at least 500 rows.\n",
    "\n",
    "Display the data sorted by the number of attendees, greatest to least.\n",
    "\n",
    "We recommend adding a brief `time.sleep` call between `requests.get` calls to avoid rate limiting."
   ]
  },
  {
   "cell_type": "code",
   "execution_count": null,
   "metadata": {},
   "outputs": [],
   "source": [
    "# Your code here\n",
    "overall_df = pd.DataFrame()\n",
    "\n",
    "current_url = EVENTS_PAGE_URL\n",
    "while overall_df.shape[0] <= 500:\n",
    "    # Get all events from the current URL\n",
    "    df = scrape_events(current_url)\n",
    "    time.sleep(.2)\n",
    "    # Add the data to the overall df\n",
    "    overall_df = pd.concat([overall_df, df])\n",
    "    # Get the next URL and set it as the current URL\n",
    "    current_url = next_page(current_url)\n",
    "    time.sleep(.2)\n",
    "\n",
    "overall_df"
   ]
  },
  {
   "cell_type": "code",
   "execution_count": null,
   "metadata": {},
   "outputs": [],
   "source": [
    "overall_df.sort_values(\"Number_of_Attendees\", ascending=False)"
   ]
  },
  {
   "cell_type": "code",
   "execution_count": null,
   "metadata": {},
   "outputs": [],
   "source": []
  },
  {
   "cell_type": "markdown",
   "metadata": {},
   "source": [
    "## Summary \n",
    "\n",
    "Congratulations! In this lab, you successfully developed a pipeline to scrape a website for concert event information!"
   ]
  }
 ],
 "metadata": {
  "kernelspec": {
   "display_name": "Python(learn-env)",
   "language": "python",
   "name": "learn-env"
  },
  "language_info": {
   "codemirror_mode": {
    "name": "ipython",
    "version": 3
   },
   "file_extension": ".py",
   "mimetype": "text/x-python",
   "name": "python",
   "nbconvert_exporter": "python",
   "pygments_lexer": "ipython3",
   "version": "3.8.5"
  }
 },
 "nbformat": 4,
 "nbformat_minor": 2
}
